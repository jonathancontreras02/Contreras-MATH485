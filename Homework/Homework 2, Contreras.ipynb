{
 "cells": [
  {
   "cell_type": "markdown",
   "id": "f909d7c9",
   "metadata": {},
   "source": [
    "# Homework 2 Setup"
   ]
  },
  {
   "cell_type": "code",
   "execution_count": 1,
   "id": "ee092273",
   "metadata": {},
   "outputs": [],
   "source": [
    "import sys\n",
    "sys.path.append('/Users/jonathancontreras/Desktop/College Folder/Senior Year/Math485/Unit 1 Tabular')"
   ]
  },
  {
   "cell_type": "code",
   "execution_count": 2,
   "id": "f595841d",
   "metadata": {},
   "outputs": [],
   "source": [
    "import pandas as pd\n",
    "import numpy as np\n",
    "import matplotlib.pyplot as plt\n",
    "import seaborn as sns\n",
    "import os\n",
    "\n",
    "import dhs_util\n",
    "from dhs_util import *\n",
    "\n",
    "os.chdir('/Users/jonathancontreras/Desktop/College Folder/Senior Year/Math485/Unit 1 Tabular')\n",
    "df = pd.read_csv('dhs_service_records_synthesized_final.csv')\n",
    "df = dhs_preprocessing(df)\n",
    "df, service_map = add_service_label(df)\n",
    "df = add_age_bin(df)\n"
   ]
  },
  {
   "cell_type": "code",
   "execution_count": 3,
   "id": "ab84abbb",
   "metadata": {},
   "outputs": [
    {
     "data": {
      "text/plain": [
       "{'Children_Attending_Early_Childhood_Programs_Managed_by_DHS': 'S01',\n",
       " 'Children_in_Care': 'S02',\n",
       " 'Children_Receiving_Child_Welfare_Services': 'S03',\n",
       " 'Children_Receiving_DHS_Funded_Out_of_School_Programs': 'S04',\n",
       " 'Children_Receiving_Early_Intervention_Services': 'S05',\n",
       " 'Families_Receiving_Child_Welfare_Services': 'S06',\n",
       " 'Homeless_Population': 'S07',\n",
       " 'Homicides': 'S08',\n",
       " 'Individuals_Receiving_DHS_Services': 'S09',\n",
       " 'Individuals_Receiving_Family_Strengthening_Programs': 'S10',\n",
       " 'Individuals_Receiving_Homelessness_and_Housing_Services': 'S11',\n",
       " 'Individuals_Receiving_Income_Supports': 'S12',\n",
       " 'Individuals_Receiving_Intellectual_Disability_Services': 'S13',\n",
       " 'Individuals_Receiving_Mental_Health_Services': 'S14',\n",
       " 'Individuals_Receiving_Substance_Use_Disorder_Services': 'S15',\n",
       " 'Involuntary_Commitments': 'S16',\n",
       " 'Jail_Population': 'S17',\n",
       " 'Mental_Health_Crises': 'S18',\n",
       " 'Older_Adults_Receiving_Services': 'S19',\n",
       " 'Overdoses': 'S20',\n",
       " 'Parents_Receiving_Child_Welfare_Services': 'S21',\n",
       " 'Suicides': 'S22'}"
      ]
     },
     "execution_count": 3,
     "metadata": {},
     "output_type": "execute_result"
    }
   ],
   "source": [
    "service_map"
   ]
  },
  {
   "cell_type": "markdown",
   "id": "984ed7ba",
   "metadata": {},
   "source": [
    "Let's analyze the cohort of receiving homelessness and housing services (S11) and children receiving child welfare services (S18) to investigate the homeless children population receiving services."
   ]
  },
  {
   "cell_type": "code",
   "execution_count": 4,
   "id": "995d2218",
   "metadata": {},
   "outputs": [
    {
     "data": {
      "text/html": [
       "<div>\n",
       "<style scoped>\n",
       "    .dataframe tbody tr th:only-of-type {\n",
       "        vertical-align: middle;\n",
       "    }\n",
       "\n",
       "    .dataframe tbody tr th {\n",
       "        vertical-align: top;\n",
       "    }\n",
       "\n",
       "    .dataframe thead th {\n",
       "        text-align: right;\n",
       "    }\n",
       "</style>\n",
       "<table border=\"1\" class=\"dataframe\">\n",
       "  <thead>\n",
       "    <tr style=\"text-align: right;\">\n",
       "      <th></th>\n",
       "      <th>id</th>\n",
       "      <th>date</th>\n",
       "      <th>service</th>\n",
       "      <th>age</th>\n",
       "      <th>gender</th>\n",
       "      <th>race</th>\n",
       "      <th>ethnicity</th>\n",
       "      <th>marital</th>\n",
       "      <th>education</th>\n",
       "      <th>month</th>\n",
       "      <th>serv</th>\n",
       "      <th>age_bin</th>\n",
       "    </tr>\n",
       "  </thead>\n",
       "  <tbody>\n",
       "    <tr>\n",
       "      <th>0</th>\n",
       "      <td>1626</td>\n",
       "      <td>2021-01-31</td>\n",
       "      <td>Children_Attending_Early_Childhood_Programs_Ma...</td>\n",
       "      <td>5</td>\n",
       "      <td>1~Male</td>\n",
       "      <td>1~White</td>\n",
       "      <td>99~Unknown</td>\n",
       "      <td>99~Unknown</td>\n",
       "      <td>9-12~High School (grade 9-12)</td>\n",
       "      <td>January</td>\n",
       "      <td>S01</td>\n",
       "      <td>0-9</td>\n",
       "    </tr>\n",
       "    <tr>\n",
       "      <th>1</th>\n",
       "      <td>1626</td>\n",
       "      <td>2021-02-28</td>\n",
       "      <td>Children_Attending_Early_Childhood_Programs_Ma...</td>\n",
       "      <td>5</td>\n",
       "      <td>1~Male</td>\n",
       "      <td>1~White</td>\n",
       "      <td>99~Unknown</td>\n",
       "      <td>99~Unknown</td>\n",
       "      <td>9-12~High School (grade 9-12)</td>\n",
       "      <td>February</td>\n",
       "      <td>S01</td>\n",
       "      <td>0-9</td>\n",
       "    </tr>\n",
       "    <tr>\n",
       "      <th>2</th>\n",
       "      <td>1626</td>\n",
       "      <td>2021-03-31</td>\n",
       "      <td>Children_Attending_Early_Childhood_Programs_Ma...</td>\n",
       "      <td>5</td>\n",
       "      <td>1~Male</td>\n",
       "      <td>1~White</td>\n",
       "      <td>99~Unknown</td>\n",
       "      <td>99~Unknown</td>\n",
       "      <td>9-12~High School (grade 9-12)</td>\n",
       "      <td>March</td>\n",
       "      <td>S01</td>\n",
       "      <td>0-9</td>\n",
       "    </tr>\n",
       "    <tr>\n",
       "      <th>3</th>\n",
       "      <td>1626</td>\n",
       "      <td>2021-04-30</td>\n",
       "      <td>Children_Attending_Early_Childhood_Programs_Ma...</td>\n",
       "      <td>5</td>\n",
       "      <td>1~Male</td>\n",
       "      <td>1~White</td>\n",
       "      <td>99~Unknown</td>\n",
       "      <td>99~Unknown</td>\n",
       "      <td>9-12~High School (grade 9-12)</td>\n",
       "      <td>April</td>\n",
       "      <td>S01</td>\n",
       "      <td>0-9</td>\n",
       "    </tr>\n",
       "    <tr>\n",
       "      <th>4</th>\n",
       "      <td>1626</td>\n",
       "      <td>2021-05-31</td>\n",
       "      <td>Children_Attending_Early_Childhood_Programs_Ma...</td>\n",
       "      <td>5</td>\n",
       "      <td>1~Male</td>\n",
       "      <td>1~White</td>\n",
       "      <td>99~Unknown</td>\n",
       "      <td>99~Unknown</td>\n",
       "      <td>9-12~High School (grade 9-12)</td>\n",
       "      <td>May</td>\n",
       "      <td>S01</td>\n",
       "      <td>0-9</td>\n",
       "    </tr>\n",
       "    <tr>\n",
       "      <th>5</th>\n",
       "      <td>1626</td>\n",
       "      <td>2021-06-30</td>\n",
       "      <td>Children_Attending_Early_Childhood_Programs_Ma...</td>\n",
       "      <td>5</td>\n",
       "      <td>1~Male</td>\n",
       "      <td>1~White</td>\n",
       "      <td>99~Unknown</td>\n",
       "      <td>99~Unknown</td>\n",
       "      <td>9-12~High School (grade 9-12)</td>\n",
       "      <td>June</td>\n",
       "      <td>S01</td>\n",
       "      <td>0-9</td>\n",
       "    </tr>\n",
       "    <tr>\n",
       "      <th>6</th>\n",
       "      <td>3775</td>\n",
       "      <td>2021-01-31</td>\n",
       "      <td>Children_Attending_Early_Childhood_Programs_Ma...</td>\n",
       "      <td>5</td>\n",
       "      <td>1~Male</td>\n",
       "      <td>99~Unknown</td>\n",
       "      <td>99~Unknown</td>\n",
       "      <td>99~Unknown</td>\n",
       "      <td>99~Unknown</td>\n",
       "      <td>January</td>\n",
       "      <td>S01</td>\n",
       "      <td>0-9</td>\n",
       "    </tr>\n",
       "    <tr>\n",
       "      <th>7</th>\n",
       "      <td>3775</td>\n",
       "      <td>2021-02-28</td>\n",
       "      <td>Children_Attending_Early_Childhood_Programs_Ma...</td>\n",
       "      <td>5</td>\n",
       "      <td>1~Male</td>\n",
       "      <td>99~Unknown</td>\n",
       "      <td>99~Unknown</td>\n",
       "      <td>99~Unknown</td>\n",
       "      <td>99~Unknown</td>\n",
       "      <td>February</td>\n",
       "      <td>S01</td>\n",
       "      <td>0-9</td>\n",
       "    </tr>\n",
       "    <tr>\n",
       "      <th>8</th>\n",
       "      <td>3775</td>\n",
       "      <td>2021-03-31</td>\n",
       "      <td>Children_Attending_Early_Childhood_Programs_Ma...</td>\n",
       "      <td>5</td>\n",
       "      <td>1~Male</td>\n",
       "      <td>99~Unknown</td>\n",
       "      <td>99~Unknown</td>\n",
       "      <td>99~Unknown</td>\n",
       "      <td>99~Unknown</td>\n",
       "      <td>March</td>\n",
       "      <td>S01</td>\n",
       "      <td>0-9</td>\n",
       "    </tr>\n",
       "    <tr>\n",
       "      <th>9</th>\n",
       "      <td>3775</td>\n",
       "      <td>2021-04-30</td>\n",
       "      <td>Children_Attending_Early_Childhood_Programs_Ma...</td>\n",
       "      <td>5</td>\n",
       "      <td>1~Male</td>\n",
       "      <td>99~Unknown</td>\n",
       "      <td>99~Unknown</td>\n",
       "      <td>99~Unknown</td>\n",
       "      <td>99~Unknown</td>\n",
       "      <td>April</td>\n",
       "      <td>S01</td>\n",
       "      <td>0-9</td>\n",
       "    </tr>\n",
       "  </tbody>\n",
       "</table>\n",
       "</div>"
      ],
      "text/plain": [
       "     id       date                                            service  age  \\\n",
       "0  1626 2021-01-31  Children_Attending_Early_Childhood_Programs_Ma...    5   \n",
       "1  1626 2021-02-28  Children_Attending_Early_Childhood_Programs_Ma...    5   \n",
       "2  1626 2021-03-31  Children_Attending_Early_Childhood_Programs_Ma...    5   \n",
       "3  1626 2021-04-30  Children_Attending_Early_Childhood_Programs_Ma...    5   \n",
       "4  1626 2021-05-31  Children_Attending_Early_Childhood_Programs_Ma...    5   \n",
       "5  1626 2021-06-30  Children_Attending_Early_Childhood_Programs_Ma...    5   \n",
       "6  3775 2021-01-31  Children_Attending_Early_Childhood_Programs_Ma...    5   \n",
       "7  3775 2021-02-28  Children_Attending_Early_Childhood_Programs_Ma...    5   \n",
       "8  3775 2021-03-31  Children_Attending_Early_Childhood_Programs_Ma...    5   \n",
       "9  3775 2021-04-30  Children_Attending_Early_Childhood_Programs_Ma...    5   \n",
       "\n",
       "   gender        race   ethnicity     marital                      education  \\\n",
       "0  1~Male     1~White  99~Unknown  99~Unknown  9-12~High School (grade 9-12)   \n",
       "1  1~Male     1~White  99~Unknown  99~Unknown  9-12~High School (grade 9-12)   \n",
       "2  1~Male     1~White  99~Unknown  99~Unknown  9-12~High School (grade 9-12)   \n",
       "3  1~Male     1~White  99~Unknown  99~Unknown  9-12~High School (grade 9-12)   \n",
       "4  1~Male     1~White  99~Unknown  99~Unknown  9-12~High School (grade 9-12)   \n",
       "5  1~Male     1~White  99~Unknown  99~Unknown  9-12~High School (grade 9-12)   \n",
       "6  1~Male  99~Unknown  99~Unknown  99~Unknown                     99~Unknown   \n",
       "7  1~Male  99~Unknown  99~Unknown  99~Unknown                     99~Unknown   \n",
       "8  1~Male  99~Unknown  99~Unknown  99~Unknown                     99~Unknown   \n",
       "9  1~Male  99~Unknown  99~Unknown  99~Unknown                     99~Unknown   \n",
       "\n",
       "      month serv age_bin  \n",
       "0   January  S01     0-9  \n",
       "1  February  S01     0-9  \n",
       "2     March  S01     0-9  \n",
       "3     April  S01     0-9  \n",
       "4       May  S01     0-9  \n",
       "5      June  S01     0-9  \n",
       "6   January  S01     0-9  \n",
       "7  February  S01     0-9  \n",
       "8     March  S01     0-9  \n",
       "9     April  S01     0-9  "
      ]
     },
     "execution_count": 4,
     "metadata": {},
     "output_type": "execute_result"
    }
   ],
   "source": [
    "df.head(10)"
   ]
  },
  {
   "cell_type": "code",
   "execution_count": 5,
   "id": "11ce48a4",
   "metadata": {},
   "outputs": [],
   "source": [
    "recipient = get_recipient_attribute(df)\n",
    "id_s11 =df.query(\"serv == 'S11'\").id.unique() #find number of id that used S11\n",
    "id_one_serv = recipient.query(\"distinct_service == 1\").id.unique() #find number of id that used 1 service only\n",
    "id_s11_only = list(set(id_s11) & set(id_one_serv)) # find number of id that only used S11 and no other service\n",
    "id_comp_s11_only = set(id_s11).difference(set(id_s11_only)) #find compliment of S11 only\n",
    "\n",
    "id_s3 =df.query(\"serv == 'S03'\").id.unique() \n",
    "id_s3_only = list(set(id_s3) & set(id_one_serv)) \n",
    "id_comp_s3_only = set(id_s3).difference(set(id_s3_only)) \n",
    "\n",
    "id_both_s11_s3 = list(set(id_s11) & set(id_s3)) #find number of both s3 and s11 users"
   ]
  },
  {
   "cell_type": "code",
   "execution_count": 6,
   "id": "9674d9d5",
   "metadata": {},
   "outputs": [
    {
     "data": {
      "text/html": [
       "<div>\n",
       "<style scoped>\n",
       "    .dataframe tbody tr th:only-of-type {\n",
       "        vertical-align: middle;\n",
       "    }\n",
       "\n",
       "    .dataframe tbody tr th {\n",
       "        vertical-align: top;\n",
       "    }\n",
       "\n",
       "    .dataframe thead th {\n",
       "        text-align: right;\n",
       "    }\n",
       "</style>\n",
       "<table border=\"1\" class=\"dataframe\">\n",
       "  <thead>\n",
       "    <tr style=\"text-align: right;\">\n",
       "      <th></th>\n",
       "      <th>id</th>\n",
       "      <th>num_service</th>\n",
       "      <th>distinct_service</th>\n",
       "      <th>first_date</th>\n",
       "      <th>last_date</th>\n",
       "      <th>num_month</th>\n",
       "      <th>distinct_month</th>\n",
       "      <th>age</th>\n",
       "      <th>gender</th>\n",
       "      <th>race</th>\n",
       "      <th>ethnicity</th>\n",
       "      <th>marital</th>\n",
       "      <th>education</th>\n",
       "      <th>serv</th>\n",
       "      <th>age_bin</th>\n",
       "    </tr>\n",
       "  </thead>\n",
       "  <tbody>\n",
       "    <tr>\n",
       "      <th>0</th>\n",
       "      <td>1</td>\n",
       "      <td>12</td>\n",
       "      <td>1</td>\n",
       "      <td>2021-01-31</td>\n",
       "      <td>2021-12-31</td>\n",
       "      <td>12</td>\n",
       "      <td>12</td>\n",
       "      <td>13</td>\n",
       "      <td>1~Male</td>\n",
       "      <td>99~Unknown</td>\n",
       "      <td>2~Not Hispanic/Latinx</td>\n",
       "      <td>99~Unknown</td>\n",
       "      <td>GED~High School Diploma/GED Completed</td>\n",
       "      <td>S12</td>\n",
       "      <td>10-19</td>\n",
       "    </tr>\n",
       "    <tr>\n",
       "      <th>12</th>\n",
       "      <td>2</td>\n",
       "      <td>1</td>\n",
       "      <td>1</td>\n",
       "      <td>2021-02-28</td>\n",
       "      <td>2021-02-28</td>\n",
       "      <td>1</td>\n",
       "      <td>1</td>\n",
       "      <td>70</td>\n",
       "      <td>2~Female</td>\n",
       "      <td>1~White</td>\n",
       "      <td>2~Not Hispanic/Latinx</td>\n",
       "      <td>2~Married</td>\n",
       "      <td>99~Unknown</td>\n",
       "      <td>S12</td>\n",
       "      <td>70-79</td>\n",
       "    </tr>\n",
       "    <tr>\n",
       "      <th>13</th>\n",
       "      <td>3</td>\n",
       "      <td>11</td>\n",
       "      <td>1</td>\n",
       "      <td>2021-02-28</td>\n",
       "      <td>2021-12-31</td>\n",
       "      <td>11</td>\n",
       "      <td>11</td>\n",
       "      <td>29</td>\n",
       "      <td>2~Female</td>\n",
       "      <td>1~White</td>\n",
       "      <td>2~Not Hispanic/Latinx</td>\n",
       "      <td>2~Married</td>\n",
       "      <td>9-12~High School (grade 9-12)</td>\n",
       "      <td>S12</td>\n",
       "      <td>20-29</td>\n",
       "    </tr>\n",
       "    <tr>\n",
       "      <th>24</th>\n",
       "      <td>4</td>\n",
       "      <td>4</td>\n",
       "      <td>1</td>\n",
       "      <td>2021-03-31</td>\n",
       "      <td>2021-12-31</td>\n",
       "      <td>4</td>\n",
       "      <td>4</td>\n",
       "      <td>4</td>\n",
       "      <td>2~Female</td>\n",
       "      <td>1~White</td>\n",
       "      <td>2~Not Hispanic/Latinx</td>\n",
       "      <td>1~Single-Never Married</td>\n",
       "      <td>9-12~High School (grade 9-12)</td>\n",
       "      <td>S12</td>\n",
       "      <td>0-9</td>\n",
       "    </tr>\n",
       "    <tr>\n",
       "      <th>28</th>\n",
       "      <td>5</td>\n",
       "      <td>12</td>\n",
       "      <td>1</td>\n",
       "      <td>2021-01-31</td>\n",
       "      <td>2021-12-31</td>\n",
       "      <td>12</td>\n",
       "      <td>12</td>\n",
       "      <td>40</td>\n",
       "      <td>1~Male</td>\n",
       "      <td>2~Black/African American</td>\n",
       "      <td>2~Not Hispanic/Latinx</td>\n",
       "      <td>2~Married</td>\n",
       "      <td>UNDERGRAD~Some College</td>\n",
       "      <td>S12</td>\n",
       "      <td>40-49</td>\n",
       "    </tr>\n",
       "  </tbody>\n",
       "</table>\n",
       "</div>"
      ],
      "text/plain": [
       "    id  num_service  distinct_service first_date  last_date  num_month  \\\n",
       "0    1           12                 1 2021-01-31 2021-12-31         12   \n",
       "12   2            1                 1 2021-02-28 2021-02-28          1   \n",
       "13   3           11                 1 2021-02-28 2021-12-31         11   \n",
       "24   4            4                 1 2021-03-31 2021-12-31          4   \n",
       "28   5           12                 1 2021-01-31 2021-12-31         12   \n",
       "\n",
       "    distinct_month  age    gender                      race  \\\n",
       "0               12   13    1~Male                99~Unknown   \n",
       "12               1   70  2~Female                   1~White   \n",
       "13              11   29  2~Female                   1~White   \n",
       "24               4    4  2~Female                   1~White   \n",
       "28              12   40    1~Male  2~Black/African American   \n",
       "\n",
       "                ethnicity                 marital  \\\n",
       "0   2~Not Hispanic/Latinx              99~Unknown   \n",
       "12  2~Not Hispanic/Latinx               2~Married   \n",
       "13  2~Not Hispanic/Latinx               2~Married   \n",
       "24  2~Not Hispanic/Latinx  1~Single-Never Married   \n",
       "28  2~Not Hispanic/Latinx               2~Married   \n",
       "\n",
       "                                education serv age_bin  \n",
       "0   GED~High School Diploma/GED Completed  S12   10-19  \n",
       "12                             99~Unknown  S12   70-79  \n",
       "13          9-12~High School (grade 9-12)  S12   20-29  \n",
       "24          9-12~High School (grade 9-12)  S12     0-9  \n",
       "28                 UNDERGRAD~Some College  S12   40-49  "
      ]
     },
     "execution_count": 6,
     "metadata": {},
     "output_type": "execute_result"
    }
   ],
   "source": [
    "recipient.head()"
   ]
  },
  {
   "cell_type": "code",
   "execution_count": 7,
   "id": "3d263c89",
   "metadata": {},
   "outputs": [
    {
     "data": {
      "text/plain": [
       "(533799, 424468, 499, 7306, 7306)"
      ]
     },
     "execution_count": 7,
     "metadata": {},
     "output_type": "execute_result"
    }
   ],
   "source": [
    "df.id.nunique(), len(id_one_serv), len(id_s3_only), len(id_s3), len(id_s3_only)+len(id_comp_s3_only)"
   ]
  },
  {
   "cell_type": "code",
   "execution_count": 8,
   "id": "6468e7b5",
   "metadata": {},
   "outputs": [
    {
     "data": {
      "text/plain": [
       "(533799, 424468, 3034, 21823, 21823)"
      ]
     },
     "execution_count": 8,
     "metadata": {},
     "output_type": "execute_result"
    }
   ],
   "source": [
    "df.id.nunique(), len(id_one_serv), len(id_s11_only), len(id_s11), len(id_s11_only)+len(id_comp_s11_only)"
   ]
  },
  {
   "cell_type": "code",
   "execution_count": 9,
   "id": "e164dd6c",
   "metadata": {},
   "outputs": [],
   "source": [
    "cohort1 = pd.DataFrame(zip(id_s11_only, ['S11_only']*len(id_s11_only)),columns=['id','cohort'])\n",
    "cohort2 = pd.DataFrame(zip(id_comp_s11_only, ['S11']*len(id_comp_s11_only)),columns=['id','cohort'])\n",
    "cohort3 = pd.DataFrame(zip(id_s3_only, ['S3_only']*len(id_s3_only)),columns=['id','cohort'])\n",
    "cohort4 = pd.DataFrame(zip(id_comp_s3_only, ['S3']*len(id_comp_s3_only)),columns=['id','cohort'])\n",
    "cohort5 = pd.DataFrame(zip(id_both_s11_s3, ['S3 and S11']*len(id_both_s11_s3)),columns=['id','cohort'])\n",
    "cohort_all=pd.concat([cohort1,cohort2,cohort3,cohort4,cohort5],axis=0)"
   ]
  },
  {
   "cell_type": "code",
   "execution_count": 10,
   "id": "8770b206",
   "metadata": {},
   "outputs": [],
   "source": [
    "cohort_all.groupby('cohort').id.nunique()\n",
    "df1 = df.merge(cohort_all, on=['id'], how='inner')"
   ]
  },
  {
   "cell_type": "code",
   "execution_count": 11,
   "id": "76d345a8",
   "metadata": {},
   "outputs": [
    {
     "data": {
      "text/html": [
       "<div>\n",
       "<style scoped>\n",
       "    .dataframe tbody tr th:only-of-type {\n",
       "        vertical-align: middle;\n",
       "    }\n",
       "\n",
       "    .dataframe tbody tr th {\n",
       "        vertical-align: top;\n",
       "    }\n",
       "\n",
       "    .dataframe thead th {\n",
       "        text-align: right;\n",
       "    }\n",
       "</style>\n",
       "<table border=\"1\" class=\"dataframe\">\n",
       "  <thead>\n",
       "    <tr style=\"text-align: right;\">\n",
       "      <th></th>\n",
       "      <th>id</th>\n",
       "      <th>date</th>\n",
       "      <th>service</th>\n",
       "      <th>age</th>\n",
       "      <th>gender</th>\n",
       "      <th>race</th>\n",
       "      <th>ethnicity</th>\n",
       "      <th>marital</th>\n",
       "      <th>education</th>\n",
       "      <th>month</th>\n",
       "      <th>serv</th>\n",
       "      <th>age_bin</th>\n",
       "    </tr>\n",
       "    <tr>\n",
       "      <th>cohort</th>\n",
       "      <th></th>\n",
       "      <th></th>\n",
       "      <th></th>\n",
       "      <th></th>\n",
       "      <th></th>\n",
       "      <th></th>\n",
       "      <th></th>\n",
       "      <th></th>\n",
       "      <th></th>\n",
       "      <th></th>\n",
       "      <th></th>\n",
       "      <th></th>\n",
       "    </tr>\n",
       "  </thead>\n",
       "  <tbody>\n",
       "    <tr>\n",
       "      <th>S11</th>\n",
       "      <td>18789</td>\n",
       "      <td>12</td>\n",
       "      <td>22</td>\n",
       "      <td>105</td>\n",
       "      <td>3</td>\n",
       "      <td>7</td>\n",
       "      <td>3</td>\n",
       "      <td>7</td>\n",
       "      <td>8</td>\n",
       "      <td>12</td>\n",
       "      <td>22</td>\n",
       "      <td>11</td>\n",
       "    </tr>\n",
       "    <tr>\n",
       "      <th>S11_only</th>\n",
       "      <td>3034</td>\n",
       "      <td>12</td>\n",
       "      <td>1</td>\n",
       "      <td>86</td>\n",
       "      <td>3</td>\n",
       "      <td>7</td>\n",
       "      <td>3</td>\n",
       "      <td>7</td>\n",
       "      <td>8</td>\n",
       "      <td>12</td>\n",
       "      <td>1</td>\n",
       "      <td>9</td>\n",
       "    </tr>\n",
       "    <tr>\n",
       "      <th>S3</th>\n",
       "      <td>6807</td>\n",
       "      <td>12</td>\n",
       "      <td>21</td>\n",
       "      <td>23</td>\n",
       "      <td>3</td>\n",
       "      <td>6</td>\n",
       "      <td>3</td>\n",
       "      <td>7</td>\n",
       "      <td>8</td>\n",
       "      <td>12</td>\n",
       "      <td>21</td>\n",
       "      <td>3</td>\n",
       "    </tr>\n",
       "    <tr>\n",
       "      <th>S3 and S11</th>\n",
       "      <td>511</td>\n",
       "      <td>12</td>\n",
       "      <td>17</td>\n",
       "      <td>21</td>\n",
       "      <td>2</td>\n",
       "      <td>5</td>\n",
       "      <td>3</td>\n",
       "      <td>5</td>\n",
       "      <td>8</td>\n",
       "      <td>12</td>\n",
       "      <td>17</td>\n",
       "      <td>3</td>\n",
       "    </tr>\n",
       "    <tr>\n",
       "      <th>S3_only</th>\n",
       "      <td>499</td>\n",
       "      <td>12</td>\n",
       "      <td>1</td>\n",
       "      <td>20</td>\n",
       "      <td>2</td>\n",
       "      <td>5</td>\n",
       "      <td>3</td>\n",
       "      <td>6</td>\n",
       "      <td>8</td>\n",
       "      <td>12</td>\n",
       "      <td>1</td>\n",
       "      <td>3</td>\n",
       "    </tr>\n",
       "  </tbody>\n",
       "</table>\n",
       "</div>"
      ],
      "text/plain": [
       "               id  date  service  age  gender  race  ethnicity  marital  \\\n",
       "cohort                                                                    \n",
       "S11         18789    12       22  105       3     7          3        7   \n",
       "S11_only     3034    12        1   86       3     7          3        7   \n",
       "S3           6807    12       21   23       3     6          3        7   \n",
       "S3 and S11    511    12       17   21       2     5          3        5   \n",
       "S3_only       499    12        1   20       2     5          3        6   \n",
       "\n",
       "            education  month  serv  age_bin  \n",
       "cohort                                       \n",
       "S11                 8     12    22       11  \n",
       "S11_only            8     12     1        9  \n",
       "S3                  8     12    21        3  \n",
       "S3 and S11          8     12    17        3  \n",
       "S3_only             8     12     1        3  "
      ]
     },
     "execution_count": 11,
     "metadata": {},
     "output_type": "execute_result"
    }
   ],
   "source": [
    "df1.groupby('cohort').nunique()"
   ]
  },
  {
   "cell_type": "code",
   "execution_count": 12,
   "id": "ca227d4d",
   "metadata": {},
   "outputs": [
    {
     "data": {
      "text/html": [
       "<div>\n",
       "<style scoped>\n",
       "    .dataframe tbody tr th:only-of-type {\n",
       "        vertical-align: middle;\n",
       "    }\n",
       "\n",
       "    .dataframe tbody tr th {\n",
       "        vertical-align: top;\n",
       "    }\n",
       "\n",
       "    .dataframe thead th {\n",
       "        text-align: right;\n",
       "    }\n",
       "</style>\n",
       "<table border=\"1\" class=\"dataframe\">\n",
       "  <thead>\n",
       "    <tr style=\"text-align: right;\">\n",
       "      <th></th>\n",
       "      <th>id</th>\n",
       "      <th>num_service</th>\n",
       "      <th>distinct_service</th>\n",
       "      <th>first_date</th>\n",
       "      <th>last_date</th>\n",
       "      <th>num_month</th>\n",
       "      <th>distinct_month</th>\n",
       "      <th>age</th>\n",
       "      <th>gender</th>\n",
       "      <th>race</th>\n",
       "      <th>ethnicity</th>\n",
       "      <th>marital</th>\n",
       "      <th>education</th>\n",
       "      <th>serv</th>\n",
       "      <th>age_bin</th>\n",
       "      <th>cohort</th>\n",
       "    </tr>\n",
       "  </thead>\n",
       "  <tbody>\n",
       "    <tr>\n",
       "      <th>0</th>\n",
       "      <td>6</td>\n",
       "      <td>24</td>\n",
       "      <td>3</td>\n",
       "      <td>2021-01-31</td>\n",
       "      <td>2021-12-31</td>\n",
       "      <td>24</td>\n",
       "      <td>12</td>\n",
       "      <td>71</td>\n",
       "      <td>2~Female</td>\n",
       "      <td>2~Black/African American</td>\n",
       "      <td>2~Not Hispanic/Latinx</td>\n",
       "      <td>1~Single-Never Married</td>\n",
       "      <td>99~Unknown</td>\n",
       "      <td>S09</td>\n",
       "      <td>70-79</td>\n",
       "      <td>S11</td>\n",
       "    </tr>\n",
       "    <tr>\n",
       "      <th>1</th>\n",
       "      <td>10</td>\n",
       "      <td>24</td>\n",
       "      <td>2</td>\n",
       "      <td>2021-01-31</td>\n",
       "      <td>2021-12-31</td>\n",
       "      <td>24</td>\n",
       "      <td>12</td>\n",
       "      <td>23</td>\n",
       "      <td>1~Male</td>\n",
       "      <td>2~Black/African American</td>\n",
       "      <td>2~Not Hispanic/Latinx</td>\n",
       "      <td>3~Single-Divorced</td>\n",
       "      <td>9-12~High School (grade 9-12)</td>\n",
       "      <td>S11</td>\n",
       "      <td>20-29</td>\n",
       "      <td>S11</td>\n",
       "    </tr>\n",
       "    <tr>\n",
       "      <th>2</th>\n",
       "      <td>20</td>\n",
       "      <td>8</td>\n",
       "      <td>2</td>\n",
       "      <td>2021-01-31</td>\n",
       "      <td>2021-12-31</td>\n",
       "      <td>8</td>\n",
       "      <td>8</td>\n",
       "      <td>2</td>\n",
       "      <td>2~Female</td>\n",
       "      <td>99~Unknown</td>\n",
       "      <td>2~Not Hispanic/Latinx</td>\n",
       "      <td>1~Single-Never Married</td>\n",
       "      <td>9-12~High School (grade 9-12)</td>\n",
       "      <td>S03</td>\n",
       "      <td>0-9</td>\n",
       "      <td>S3</td>\n",
       "    </tr>\n",
       "    <tr>\n",
       "      <th>3</th>\n",
       "      <td>47</td>\n",
       "      <td>36</td>\n",
       "      <td>4</td>\n",
       "      <td>2021-01-31</td>\n",
       "      <td>2021-12-31</td>\n",
       "      <td>36</td>\n",
       "      <td>12</td>\n",
       "      <td>8</td>\n",
       "      <td>2~Female</td>\n",
       "      <td>2~Black/African American</td>\n",
       "      <td>2~Not Hispanic/Latinx</td>\n",
       "      <td>1~Single-Never Married</td>\n",
       "      <td>99~Unknown</td>\n",
       "      <td>S09</td>\n",
       "      <td>0-9</td>\n",
       "      <td>S11</td>\n",
       "    </tr>\n",
       "    <tr>\n",
       "      <th>4</th>\n",
       "      <td>49</td>\n",
       "      <td>24</td>\n",
       "      <td>2</td>\n",
       "      <td>2021-01-31</td>\n",
       "      <td>2021-12-31</td>\n",
       "      <td>24</td>\n",
       "      <td>12</td>\n",
       "      <td>41</td>\n",
       "      <td>2~Female</td>\n",
       "      <td>1~White</td>\n",
       "      <td>2~Not Hispanic/Latinx</td>\n",
       "      <td>1~Single-Never Married</td>\n",
       "      <td>UNDERGRAD~Some College</td>\n",
       "      <td>S11</td>\n",
       "      <td>40-49</td>\n",
       "      <td>S11</td>\n",
       "    </tr>\n",
       "  </tbody>\n",
       "</table>\n",
       "</div>"
      ],
      "text/plain": [
       "   id  num_service  distinct_service first_date  last_date  num_month  \\\n",
       "0   6           24                 3 2021-01-31 2021-12-31         24   \n",
       "1  10           24                 2 2021-01-31 2021-12-31         24   \n",
       "2  20            8                 2 2021-01-31 2021-12-31          8   \n",
       "3  47           36                 4 2021-01-31 2021-12-31         36   \n",
       "4  49           24                 2 2021-01-31 2021-12-31         24   \n",
       "\n",
       "   distinct_month  age    gender                      race  \\\n",
       "0              12   71  2~Female  2~Black/African American   \n",
       "1              12   23    1~Male  2~Black/African American   \n",
       "2               8    2  2~Female                99~Unknown   \n",
       "3              12    8  2~Female  2~Black/African American   \n",
       "4              12   41  2~Female                   1~White   \n",
       "\n",
       "               ethnicity                 marital  \\\n",
       "0  2~Not Hispanic/Latinx  1~Single-Never Married   \n",
       "1  2~Not Hispanic/Latinx       3~Single-Divorced   \n",
       "2  2~Not Hispanic/Latinx  1~Single-Never Married   \n",
       "3  2~Not Hispanic/Latinx  1~Single-Never Married   \n",
       "4  2~Not Hispanic/Latinx  1~Single-Never Married   \n",
       "\n",
       "                       education serv age_bin cohort  \n",
       "0                     99~Unknown  S09   70-79    S11  \n",
       "1  9-12~High School (grade 9-12)  S11   20-29    S11  \n",
       "2  9-12~High School (grade 9-12)  S03     0-9     S3  \n",
       "3                     99~Unknown  S09     0-9    S11  \n",
       "4         UNDERGRAD~Some College  S11   40-49    S11  "
      ]
     },
     "execution_count": 12,
     "metadata": {},
     "output_type": "execute_result"
    }
   ],
   "source": [
    "recipient_w_cohort = recipient.merge(cohort_all, on='id', how='inner')\n",
    "recipient_w_cohort.head()"
   ]
  },
  {
   "cell_type": "code",
   "execution_count": 13,
   "id": "043d3bf4",
   "metadata": {},
   "outputs": [
    {
     "name": "stdout",
     "output_type": "stream",
     "text": [
      "Index(['id', 'num_service', 'distinct_service', 'first_date', 'last_date',\n",
      "       'num_month', 'distinct_month', 'age', 'gender', 'race', 'ethnicity',\n",
      "       'marital', 'education', 'serv', 'age_bin', 'cohort'],\n",
      "      dtype='object')\n"
     ]
    }
   ],
   "source": [
    "print(recipient_w_cohort.columns)"
   ]
  },
  {
   "cell_type": "code",
   "execution_count": 14,
   "id": "23b1b704",
   "metadata": {},
   "outputs": [
    {
     "name": "stderr",
     "output_type": "stream",
     "text": [
      "/Users/jonathancontreras/anaconda3/lib/python3.11/site-packages/seaborn/axisgrid.py:118: UserWarning: The figure layout has changed to tight\n",
      "  self._figure.tight_layout(*args, **kwargs)\n"
     ]
    },
    {
     "data": {
      "text/plain": [
       "<seaborn.axisgrid.FacetGrid at 0x2bc15cbd0>"
      ]
     },
     "execution_count": 14,
     "metadata": {},
     "output_type": "execute_result"
    },
    {
     "data": {
      "image/png": "[encoded data removed]",
      "text/plain": [
       "<Figure size 629.125x500 with 1 Axes>"
      ]
     },
     "metadata": {},
     "output_type": "display_data"
    }
   ],
   "source": [
    "sns.displot(recipient_w_cohort, x=\"distinct_service\", hue = \"cohort\", multiple=\"dodge\", binwidth = 1, linewidth=1 )\n"
   ]
  },
  {
   "cell_type": "code",
   "execution_count": 15,
   "id": "85f7500b",
   "metadata": {},
   "outputs": [
    {
     "name": "stderr",
     "output_type": "stream",
     "text": [
      "/Users/jonathancontreras/anaconda3/lib/python3.11/site-packages/seaborn/axisgrid.py:118: UserWarning: The figure layout has changed to tight\n",
      "  self._figure.tight_layout(*args, **kwargs)\n"
     ]
    },
    {
     "data": {
      "text/plain": [
       "<seaborn.axisgrid.FacetGrid at 0x1605ba990>"
      ]
     },
     "execution_count": 15,
     "metadata": {},
     "output_type": "execute_result"
    },
    {
     "data": {
      "image/png": "[encoded data removed]",
      "text/plain": [
       "<Figure size 629.125x500 with 1 Axes>"
      ]
     },
     "metadata": {},
     "output_type": "display_data"
    }
   ],
   "source": [
    "sns.displot(recipient_w_cohort, x=\"age\", hue = \"cohort\", multiple=\"dodge\", binwidth = 5, linewidth=1 )\n"
   ]
  },
  {
   "cell_type": "code",
   "execution_count": 16,
   "id": "26dc5ec1",
   "metadata": {},
   "outputs": [
    {
     "name": "stderr",
     "output_type": "stream",
     "text": [
      "/Users/jonathancontreras/anaconda3/lib/python3.11/site-packages/seaborn/axisgrid.py:118: UserWarning: The figure layout has changed to tight\n",
      "  self._figure.tight_layout(*args, **kwargs)\n"
     ]
    },
    {
     "data": {
      "text/plain": [
       "<seaborn.axisgrid.FacetGrid at 0x160639890>"
      ]
     },
     "execution_count": 16,
     "metadata": {},
     "output_type": "execute_result"
    },
    {
     "data": {
      "image/png": "[encoded data removed]",
      "text/plain": [
       "<Figure size 629.125x500 with 1 Axes>"
      ]
     },
     "metadata": {},
     "output_type": "display_data"
    }
   ],
   "source": [
    "sns.displot(recipient_w_cohort, x=\"gender\", hue = \"cohort\", multiple=\"dodge\", binwidth = 1, linewidth=2 )\n"
   ]
  },
  {
   "cell_type": "code",
   "execution_count": 17,
   "id": "7c27f972",
   "metadata": {},
   "outputs": [
    {
     "name": "stderr",
     "output_type": "stream",
     "text": [
      "/Users/jonathancontreras/anaconda3/lib/python3.11/site-packages/seaborn/axisgrid.py:118: UserWarning: The figure layout has changed to tight\n",
      "  self._figure.tight_layout(*args, **kwargs)\n"
     ]
    },
    {
     "data": {
      "text/plain": [
       "([0, 1, 2, 3, 4, 5, 6],\n",
       " [Text(0, 0, '1~White'),\n",
       "  Text(1, 0, '2~Black/African American'),\n",
       "  Text(2, 0, '4~Asian'),\n",
       "  Text(3, 0, '5~Native American/Pacific Islander'),\n",
       "  Text(4, 0, '6~Two or More Races'),\n",
       "  Text(5, 0, '7~Other Single Race'),\n",
       "  Text(6, 0, '99~Unknown')])"
      ]
     },
     "execution_count": 17,
     "metadata": {},
     "output_type": "execute_result"
    },
    {
     "data": {
      "image/png": "[encoded data removed]",
      "text/plain": [
       "<Figure size 629.125x500 with 1 Axes>"
      ]
     },
     "metadata": {},
     "output_type": "display_data"
    }
   ],
   "source": [
    "sns.displot(recipient_w_cohort, x=\"race\", hue = \"cohort\", multiple=\"dodge\", binwidth = 1, linewidth=1 )\n",
    "plt.xticks(rotation=90)\n"
   ]
  },
  {
   "cell_type": "markdown",
   "id": "c2c3a86b",
   "metadata": {},
   "source": [
    "# Conclusion"
   ]
  },
  {
   "cell_type": "markdown",
   "id": "a5b4d87b",
   "metadata": {},
   "source": [
    "The 4th and 3rd graphs show, demographically, that about 70% more (~3,000) Black/African American recipients receive homelessness and housing services than White recipients, whereas the number of children receiving welfare are about equal among the two cohorts. Similarly, there are about 60% more females than males receiving homelessness and housing services whereas the gender proportion between those receiving children's welfare is about the same. \n",
    "\n",
    "Also, as displayed in the 1st graph, a large proportion of individuals who receive services for homelessness and housing only receive one other service, which begs the question of which service(s) this might be. Perhaps in the future I would analyze what other services are S11 recipients receiving and maybe visualize it with a graph or pie chart. \n"
   ]
  }
 ],
 "metadata": {
  "kernelspec": {
   "display_name": "Python 3 (ipykernel)",
   "language": "python",
   "name": "python3"
  },
  "language_info": {
   "codemirror_mode": {
    "name": "ipython",
    "version": 3
   },
   "file_extension": ".py",
   "mimetype": "text/x-python",
   "name": "python",
   "nbconvert_exporter": "python",
   "pygments_lexer": "ipython3",
   "version": "3.11.5"
  }
 },
 "nbformat": 4,
 "nbformat_minor": 5
}
